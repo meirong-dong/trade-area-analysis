{
 "cells": [
  {
   "cell_type": "code",
   "execution_count": 4,
   "metadata": {},
   "outputs": [
    {
     "name": "stdout",
     "output_type": "stream",
     "text": [
      "c:\\Users\\Z06662\\OneDrive - The Coca-Cola Company\\Documents\\GitHub\\trade-area-analysis\\data\\singapore\\\n",
      "Error: Unable to fetch data (Status code: 400)\n"
     ]
    }
   ],
   "source": [
    "import requests\n",
    "import pandas as pd\n",
    "import os\n",
    "\n",
    "# Get the parent folder path\n",
    "current_dir = os.path.abspath(os.path.join(os.getcwd(), os.pardir))\n",
    "data_dir = os.path.join(current_dir, \"data\", \"singapore\\\\\")\n",
    "print(data_dir)\n",
    "\n",
    "# Define Overpass API URL\n",
    "url = \"https://overpass-api.de/api/interpreter\"\n",
    "\n",
    "# Define Overpass Query to get restaurant POIs in Singapore (bounding box coordinates for Singapore)\n",
    "overpass_query = \"\"\"\n",
    "[out:json];\n",
    "node[\"amenity\"=\"restaurant\"](1.1300, 103.6130, 1.4780, 104.1250);  # Singapore bounding box\n",
    "out body;\n",
    "\"\"\"\n",
    "\n",
    "# Send the request to the Overpass API\n",
    "response = requests.get(url, params={'data': overpass_query})\n",
    "\n",
    "# Check if the response is valid\n",
    "if response.status_code == 200:\n",
    "    data = response.json()\n",
    "    \n",
    "    # Extract relevant POI information (name, latitude, longitude)\n",
    "    pois = []\n",
    "    for element in data['elements']:\n",
    "        name = element.get('tags', {}).get('name', 'N/A')  # Get name if available\n",
    "        lat = element['lat']\n",
    "        lon = element['lon']\n",
    "        pois.append([name, lat, lon])\n",
    "    \n",
    "    # Create a DataFrame from the POIs list\n",
    "    df = pd.DataFrame(pois, columns=['Name', 'Latitude', 'Longitude'])\n",
    "    \n",
    "    # Save to CSV\n",
    "    df.to_csv(data_dir+'singapore_restaurants_pois.csv', index=False)\n",
    "    print(\"POIs have been saved to 'singapore_restaurants_pois.csv'\")\n",
    "else:\n",
    "    print(f\"Error: Unable to fetch data (Status code: {response.status_code})\")\n"
   ]
  },
  {
   "cell_type": "code",
   "execution_count": null,
   "metadata": {},
   "outputs": [],
   "source": []
  }
 ],
 "metadata": {
  "kernelspec": {
   "display_name": ".venv",
   "language": "python",
   "name": "python3"
  },
  "language_info": {
   "codemirror_mode": {
    "name": "ipython",
    "version": 3
   },
   "file_extension": ".py",
   "mimetype": "text/x-python",
   "name": "python",
   "nbconvert_exporter": "python",
   "pygments_lexer": "ipython3",
   "version": "3.12.9"
  }
 },
 "nbformat": 4,
 "nbformat_minor": 2
}
